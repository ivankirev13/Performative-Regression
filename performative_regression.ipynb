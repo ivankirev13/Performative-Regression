{
 "cells": [
  {
   "cell_type": "code",
   "execution_count": 2,
   "metadata": {},
   "outputs": [],
   "source": [
    "import numpy as np\n",
    "import matplotlib.pyplot as plt\n",
    "from scipy.optimize import minimize_scalar\n",
    "from itertools import accumulate"
   ]
  },
  {
   "cell_type": "code",
   "execution_count": 3,
   "metadata": {},
   "outputs": [
    {
     "data": {
      "text/plain": [
       "[<matplotlib.lines.Line2D at 0x17b40d35ca0>]"
      ]
     },
     "execution_count": 3,
     "metadata": {},
     "output_type": "execute_result"
    },
    {
     "data": {
      "image/png": "[encoded data removed]",
      "text/plain": [
       "<Figure size 432x288 with 1 Axes>"
      ]
     },
     "metadata": {
      "needs_background": "light"
     },
     "output_type": "display_data"
    }
   ],
   "source": [
    "\n",
    "k=10\n",
    "plt.plot(np.flip(np.cos(np.pi * (2*np.arange(1, k+2) - 1 ) / (2*(k+1)))))\n",
    "plt.plot(np.linspace(-1, 1, k+1))"
   ]
  },
  {
   "cell_type": "code",
   "execution_count": 4,
   "metadata": {},
   "outputs": [
    {
     "data": {
      "text/plain": [
       "0.9898214418809327"
      ]
     },
     "execution_count": 4,
     "metadata": {},
     "output_type": "execute_result"
    }
   ],
   "source": [
    "np.cos(np.pi*1/(2*(k+1)))"
   ]
  },
  {
   "cell_type": "code",
   "execution_count": 5,
   "metadata": {},
   "outputs": [
    {
     "name": "stdout",
     "output_type": "stream",
     "text": [
      "[1 2 3]\n"
     ]
    },
    {
     "data": {
      "text/plain": [
       "17"
      ]
     },
     "execution_count": 5,
     "metadata": {},
     "output_type": "execute_result"
    }
   ],
   "source": [
    "x = np.array([1, 2, 3, 4, 5])\n",
    "y = np.repeat(x[:, np.newaxis], 10, axis=1)\n",
    "\n",
    "c = np.array([1, 2, 3])\n",
    "\n",
    "print(np.array([1, 2, 3]))\n",
    "np.polyval(np.flip(c), 2)"
   ]
  },
  {
   "cell_type": "code",
   "execution_count": 69,
   "metadata": {},
   "outputs": [],
   "source": [
    "class Performative_Regression:\n",
    "\n",
    "    def __init__(self, k, n , T, sigma=0.1):\n",
    "        \"\"\"\n",
    "        k : polynomial degree\n",
    "        \"\"\"\n",
    "        self.k = k\n",
    "        self.n = n\n",
    "        self.T = T\n",
    "        self.sigma = sigma\n",
    "        self.thetas = np.cos(np.pi * (2*np.arange(1, self.k+2) - 1 ) / (2*(self.k + 1)))\n",
    "\n",
    "        self.f_hat_values = self.f_hat()\n",
    "\n",
    "        self.V = self.vandermonde_matrix()\n",
    "        self.V_det = self.vandermonde_determinant()\n",
    "        \n",
    "    def f(self, theta):\n",
    "        \"\"\"\n",
    "        Input:\n",
    "            theta: float, a number between -1 and 1\n",
    "        Output:\n",
    "            f(theta): float, a function of theta\n",
    "        \"\"\"\n",
    "\n",
    "        fun = 3 + np.sin(theta - 2) + np.sin(theta)**2\n",
    "        fun = 1 + theta * np.cos(5 * theta) + np.sin(theta - 2)**2 + theta * np.sin(theta + 3) * np.cos(theta + 3)\n",
    "    \n",
    "        return fun\n",
    "    \n",
    "    def f_hat(self):\n",
    "        \"\"\" \n",
    "        Input:\n",
    "            None\n",
    "        Output:\n",
    "            f_hat: array (k+1, ) with element i equal to f_hat(theta_i) where\n",
    "            theta_i is the ith Chebyshev node\n",
    "        \"\"\"\n",
    "        \n",
    "        Y = (\n",
    "            np.repeat(self.f(self.thetas)[:, np.newaxis], self.n, axis=1) +\n",
    "            np.random.normal(0, self.sigma, (self.k+1, self.n))\n",
    "        )\n",
    "\n",
    "        f_hat = np.mean(Y, axis=1)\n",
    "\n",
    "        return f_hat\n",
    "    \n",
    "    def vandermonde_matrix(self):\n",
    "        \"\"\"\n",
    "        Input:\n",
    "            None\n",
    "        Output:\n",
    "            V: array (k+1, k+1), the Vandermonde matrix with Chebyshev nodes\n",
    "        \"\"\"\n",
    "\n",
    "        return np.vander(self.thetas, increasing=True)\n",
    "\n",
    "    def vandermonde_determinant(self):\n",
    "        \"\"\"\n",
    "        Input:\n",
    "            None\n",
    "        Output:\n",
    "            det: float, the determinant of the Vandermonde matrix\n",
    "        \"\"\"\n",
    "\n",
    "        det = (-1)**((self.k+1) * self.k / 2 ) * ((self.k+1)**(self.k+1) / 2**(self.k*self.k))**(1/2)\n",
    "        \n",
    "        return det   \n",
    "    \n",
    "    def true_objective_function(self, theta):\n",
    "        \"\"\"\n",
    "        Input: \n",
    "            theta: float, a number between -1 and 1\n",
    "        Output:\n",
    "            f(theta)^2 - 2*theta*f(theta) + theta^2\n",
    "            The true objective function, evaluated at theta\n",
    "        \"\"\"\n",
    "\n",
    "        return self.f(theta)**2 - 2 * theta * self.f(theta) + theta**2\n",
    "    \n",
    "    def estimated_objective_function(self, theta):\n",
    "        \"\"\"\n",
    "        Input:\n",
    "            theta: float, a number between -1 and 1\n",
    "        Output:\n",
    "            p(theta)^2 - 2*theta*p(theta) + theta^2\n",
    "            The estimated objective function evaluated at theta\n",
    "        \"\"\"\n",
    "\n",
    "        p_theta = 0\n",
    "        for i in range(k+1):\n",
    "            prod = 1\n",
    "            for j in range(k+1):\n",
    "                if j != i:\n",
    "                    prod = prod * (theta - self.thetas[j]) / (self.thetas[i] - self.thetas[j])\n",
    "\n",
    "            p_theta = p_theta + prod * self.f_hat_values[i]\n",
    "\n",
    "        return p_theta**2 - 2 * theta * p_theta + theta**2\n",
    "    \n",
    "    def plot_everything(self):\n",
    "        \n",
    "        t1 = np.linspace(-2, 2, 1000)\n",
    "        t2 = np.linspace(-1, 1, 1000)\n",
    "\n",
    "        plt.figure(figsize=(10, 7))\n",
    "        plt.plot(t1, self.f(t1), label=r'$f(\\theta)$')\n",
    "        plt.plot(t1, self.true_objective_function(t1), 'k', label='true objective')\n",
    "        plt.plot(t2, self.estimated_objective_function(t2), 'r--', label=f'estimated objective for k={self.k}')\n",
    "        plt.fill_between(t2, 0, 25, color='C0', alpha=0.3)\n",
    "        plt.xlabel(r\"$\\theta$\")\n",
    "        plt.ylim(0, 25)\n",
    "        plt.legend(loc='upper right')\n",
    "        plt.grid()\n",
    "        plt.show()\n",
    "\n",
    "    def plot_error(self):\n",
    "        t = np.linspace(-1, 1, 1000)\n",
    "\n",
    "        plt.figure(figsize=(10, 7))\n",
    "        plt.plot(t, np.abs(self.true_objective_function(t) - self.estimated_objective_function(t)))\n",
    "        plt.xlabel(r\"$\\theta$\")\n",
    "        plt.grid()\n",
    "        plt.show()\n",
    "\n",
    "    def plot_lagrange(self, j):\n",
    "\n",
    "        t = np.linspace(-1, 1, 1000)\n",
    "\n",
    "        prod = 1 \n",
    "        for i in range(self.k+1):\n",
    "            if i != j:\n",
    "                prod = prod * (t - self.thetas[i]) / (self.thetas[j] - self.thetas[i])\n",
    "        \n",
    "        plt.figure(figsize=(10, 7))\n",
    "        plt.plot(t, prod)\n",
    "        plt.grid()\n",
    "        plt.show()\n",
    "\n",
    "    def max_value(self):\n",
    "        prod = 1\n",
    "        for i in range(1, self.k+1):\n",
    "            prod = prod * (1 - self.thetas[i]) / (self.thetas[0] - self.thetas[i])\n",
    "\n",
    "        return prod\n",
    "\n",
    "    "
   ]
  },
  {
   "cell_type": "code",
   "execution_count": 70,
   "metadata": {},
   "outputs": [
    {
     "data": {
      "text/plain": [
       "1.2691462984511077"
      ]
     },
     "execution_count": 70,
     "metadata": {},
     "output_type": "execute_result"
    }
   ],
   "source": [
    "k=7\n",
    "pr = Performative_Regression(k=k, n=10000, T=100)\n",
    "\n",
    "pr.max_value()"
   ]
  },
  {
   "cell_type": "code",
   "execution_count": 67,
   "metadata": {},
   "outputs": [
    {
     "data": {
      "text/plain": [
       "array([ 0.98078528,  0.83146961,  0.55557023,  0.19509032, -0.19509032,\n",
       "       -0.55557023, -0.83146961, -0.98078528])"
      ]
     },
     "execution_count": 67,
     "metadata": {},
     "output_type": "execute_result"
    }
   ],
   "source": [
    "pr.thetas"
   ]
  },
  {
   "cell_type": "code",
   "execution_count": 68,
   "metadata": {},
   "outputs": [
    {
     "data": {
      "image/png": "[encoded data removed]",
      "text/plain": [
       "<Figure size 720x504 with 1 Axes>"
      ]
     },
     "metadata": {
      "needs_background": "light"
     },
     "output_type": "display_data"
    }
   ],
   "source": [
    "pr.plot_lagrange(0)"
   ]
  },
  {
   "cell_type": "code",
   "execution_count": null,
   "metadata": {},
   "outputs": [
    {
     "data": {
      "text/plain": [
       "1.2990381056766582"
      ]
     },
     "execution_count": 157,
     "metadata": {},
     "output_type": "execute_result"
    }
   ],
   "source": [
    "k = 3\n",
    "pr = Performative_Regression(k=k, n=10, T=500)\n",
    "V = pr.vandermonde_matrix()\n",
    "#sum_of_determinants(V, 4)\n",
    "\n",
    "np.linalg.det(V)"
   ]
  },
  {
   "cell_type": "code",
   "execution_count": null,
   "metadata": {},
   "outputs": [
    {
     "data": {
      "text/plain": [
       "array([[-1.98955933e-17,  8.42790857e-17,  1.00000000e+00,\n",
       "        -8.42790857e-17,  1.98955933e-17],\n",
       "       [ 3.24919696e-01, -1.37638192e+00, -1.22247272e-16,\n",
       "         1.37638192e+00, -3.24919696e-01],\n",
       "       [-3.41640786e-01,  2.34164079e+00, -4.00000000e+00,\n",
       "         2.34164079e+00, -3.41640786e-01],\n",
       "       [-9.40456404e-01,  1.52169043e+00,  1.35153260e-16,\n",
       "        -1.52169043e+00,  9.40456404e-01],\n",
       "       [ 9.88854382e-01, -2.58885438e+00,  3.20000000e+00,\n",
       "        -2.58885438e+00,  9.88854382e-01]])"
      ]
     },
     "execution_count": 71,
     "metadata": {},
     "output_type": "execute_result"
    }
   ],
   "source": [
    "v_inv_hopefully = np.zeros((k, k))\n",
    "for i in range(k):\n",
    "    for j in range(k):\n",
    "        v_inv_hopefully[j][i] = (-1)**(i+j) * determinant_without_row_column(V, i, j) / np.linalg.det(V)\n",
    "\n",
    "v_inv_hopefully #- np.linalg.inv(V)"
   ]
  },
  {
   "cell_type": "code",
   "execution_count": null,
   "metadata": {},
   "outputs": [],
   "source": []
  }
 ],
 "metadata": {
  "kernelspec": {
   "display_name": "Python 3",
   "language": "python",
   "name": "python3"
  },
  "language_info": {
   "codemirror_mode": {
    "name": "ipython",
    "version": 3
   },
   "file_extension": ".py",
   "mimetype": "text/x-python",
   "name": "python",
   "nbconvert_exporter": "python",
   "pygments_lexer": "ipython3",
   "version": "3.8.8"
  }
 },
 "nbformat": 4,
 "nbformat_minor": 2
}
